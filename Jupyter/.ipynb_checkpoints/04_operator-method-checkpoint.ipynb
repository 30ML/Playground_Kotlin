{
 "cells": [
  {
   "cell_type": "code",
   "execution_count": 1,
   "id": "0549f356-a8db-4962-a3ce-71666b13eb89",
   "metadata": {},
   "outputs": [
    {
     "name": "stdout",
     "output_type": "stream",
     "text": [
      "200\n",
      "200\n",
      "0\n",
      "0\n",
      "2\n",
      "2\n",
      "6\n",
      "6\n",
      "200\n",
      "200\n"
     ]
    }
   ],
   "source": [
    "println(100 + 100)\n",
    "println(100.plus(100))\n",
    "\n",
    "println(100 - 100)\n",
    "println(100.minus(100))\n",
    "\n",
    "println(200 / 100)\n",
    "println(200.div(100))\n",
    "\n",
    "println(300 % 7)\n",
    "println(300.rem(7))\n",
    "\n",
    "println(10 * 20)\n",
    "println(10.times(20))"
   ]
  },
  {
   "cell_type": "code",
   "execution_count": null,
   "id": "43d7e58f-f3a6-459a-a24f-db8edfc07ec2",
   "metadata": {},
   "outputs": [],
   "source": []
  }
 ],
 "metadata": {
  "kernelspec": {
   "display_name": "Kotlin",
   "language": "kotlin",
   "name": "kotlin"
  },
  "language_info": {
   "codemirror_mode": "text/x-kotlin",
   "file_extension": ".kt",
   "mimetype": "text/x-kotlin",
   "name": "kotlin",
   "nbconvert_exporter": "",
   "pygments_lexer": "kotlin",
   "version": "1.8.0-dev-707"
  }
 },
 "nbformat": 4,
 "nbformat_minor": 5
}
