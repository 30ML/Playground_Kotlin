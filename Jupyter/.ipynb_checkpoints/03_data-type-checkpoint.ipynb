{
 "cells": [
  {
   "cell_type": "code",
   "execution_count": 1,
   "id": "c36a2128-a0a3-4066-9dd7-9470ef2c1bde",
   "metadata": {},
   "outputs": [
    {
     "name": "stdout",
     "output_type": "stream",
     "text": [
      "class kotlin.Int\n",
      "class kotlin.Long\n",
      "class kotlin.Double\n",
      "class kotlin.Float\n"
     ]
    }
   ],
   "source": [
    "val intVar = 100\n",
    "val longVar = 100L\n",
    "val doubleVar = 100.0\n",
    "val floatVar = 100.0F\n",
    "\n",
    "println(intVar.javaClass.kotlin)\n",
    "println(longVar.javaClass.kotlin)\n",
    "println(doubleVar.javaClass.kotlin)\n",
    "println(floatVar.javaClass.kotlin)"
   ]
  },
  {
   "cell_type": "code",
   "execution_count": 4,
   "id": "67962e0a-8300-49be-a755-dbebfc651045",
   "metadata": {
    "tags": []
   },
   "outputs": [
    {
     "name": "stdout",
     "output_type": "stream",
     "text": [
      "class kotlin.Char\n",
      "class kotlin.String\n",
      "class kotlin.Boolean\n"
     ]
    }
   ],
   "source": [
    "val charVar = 'a'\n",
    "val stringVar = \"string\"\n",
    "val boolVar = true\n",
    "\n",
    "println(charVar.javaClass.kotlin)\n",
    "println(stringVar.javaClass.kotlin)\n",
    "println(boolVar.javaClass.kotlin)"
   ]
  }
 ],
 "metadata": {
  "kernelspec": {
   "display_name": "Kotlin",
   "language": "kotlin",
   "name": "kotlin"
  },
  "language_info": {
   "codemirror_mode": "text/x-kotlin",
   "file_extension": ".kt",
   "mimetype": "text/x-kotlin",
   "name": "kotlin",
   "nbconvert_exporter": "",
   "pygments_lexer": "kotlin",
   "version": "1.8.0-dev-707"
  }
 },
 "nbformat": 4,
 "nbformat_minor": 5
}
