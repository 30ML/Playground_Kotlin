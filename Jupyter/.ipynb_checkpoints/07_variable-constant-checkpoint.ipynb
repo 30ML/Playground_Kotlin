{
 "cells": [
  {
   "cell_type": "markdown",
   "id": "377cc440-c337-40c2-8982-a81a75cf0ac7",
   "metadata": {},
   "source": [
    "변수와 상수 정의"
   ]
  },
  {
   "cell_type": "code",
   "execution_count": 1,
   "id": "d32693d5-b69a-4c53-81cc-570fea76f1dc",
   "metadata": {},
   "outputs": [
    {
     "name": "stdout",
     "output_type": "stream",
     "text": [
      "100\n"
     ]
    }
   ],
   "source": [
    "val abc123 = 100\n",
    "val _abc123 = 100\n",
    "// val 123abc_ = 200 // ERROR: 식별자는 첫 글자에 숫자 불가\n",
    "\n",
    "object Const { // 상수 정의\n",
    "    const val CONST = 100\n",
    "}\n",
    "\n",
    "println(Const.CONST)"
   ]
  },
  {
   "cell_type": "markdown",
   "id": "c8af82a3-330d-43b9-a1de-1bb0210ed402",
   "metadata": {},
   "source": [
    "변수 정의"
   ]
  },
  {
   "cell_type": "code",
   "execution_count": 3,
   "id": "5f434190-57e0-45ba-b0bc-be729b221ecf",
   "metadata": {},
   "outputs": [
    {
     "name": "stdout",
     "output_type": "stream",
     "text": [
      "초기값\n"
     ]
    }
   ],
   "source": [
    "val 불변변수 = \"불변변수\"\n",
    "var 가변변수 = \"가변변수\"\n",
    "\n",
    "val 변수정의: String = \"초기값\"\n",
    "\n",
    "println(변수정의)"
   ]
  },
  {
   "cell_type": "markdown",
   "id": "ed7977df-acb3-4ce1-bdb4-1571085573f2",
   "metadata": {},
   "source": [
    "지역 변수"
   ]
  },
  {
   "cell_type": "code",
   "execution_count": 5,
   "id": "346537d3-e6ad-4ba4-8a11-1b0d2ba30a10",
   "metadata": {},
   "outputs": [
    {
     "name": "stdout",
     "output_type": "stream",
     "text": [
      "for 지역변수: 100\n",
      "for 지역변수: 100\n",
      "함수 지역변수: 100\n"
     ]
    }
   ],
   "source": [
    "for (i in 1..2) {\n",
    "    val localVal = 100\n",
    "    println(\"for 지역변수: \" + localVal)\n",
    "}\n",
    "\n",
    "fun func() {\n",
    "    val localLevel: Int\n",
    "    localLevel = 100\n",
    "    \n",
    "    println(\"함수 지역변수: \" + localLevel)\n",
    "}\n",
    "\n",
    "func()"
   ]
  },
  {
   "cell_type": "markdown",
   "id": "92f3172b-5d89-4fcd-ad1e-6f8c9ad6ac30",
   "metadata": {},
   "source": [
    "전역 변수"
   ]
  },
  {
   "cell_type": "code",
   "execution_count": 6,
   "id": "ff99875d-3a6e-4884-8816-81f9c8db0e2b",
   "metadata": {},
   "outputs": [
    {
     "name": "stdout",
     "output_type": "stream",
     "text": [
      "지역변수: 100\n",
      "최상위변수: 전역변수\n"
     ]
    }
   ],
   "source": [
    "val globalLevel = \"전역변수\"\n",
    "\n",
    "fun funcGlobal() {\n",
    "    val localLevel: Int\n",
    "    localLevel = 100\n",
    "    println(\"지역변수: $localLevel\")\n",
    "    println(\"최상위변수: $globalLevel\")\n",
    "}\n",
    "funcGlobal()"
   ]
  },
  {
   "cell_type": "markdown",
   "id": "1acd47ca-d12b-45d4-bbe8-5e675d5ad4b1",
   "metadata": {},
   "source": [
    "속성"
   ]
  },
  {
   "cell_type": "code",
   "execution_count": 7,
   "id": "a4185252-3301-4052-a5a4-13ab459b1ebd",
   "metadata": {},
   "outputs": [
    {
     "name": "stdout",
     "output_type": "stream",
     "text": [
      "100\n",
      "100\n"
     ]
    }
   ],
   "source": [
    "class Klass {\n",
    "    val memberVar: Int = 100 // 클래스 속성\n",
    "}\n",
    "\n",
    "object Obj {\n",
    "    val objVal = 100 // 객체 속성\n",
    "}\n",
    "\n",
    "val k = Klass() // 객체 인스턴스 생성 후 사용\n",
    "println(k.memberVar)\n",
    "println(Obj.objVal) // 객체 이름으로 직접 접근"
   ]
  },
  {
   "cell_type": "markdown",
   "id": "885df9c9-732b-416d-ade0-a27bf6a90d94",
   "metadata": {},
   "source": [
    "상수 조회"
   ]
  },
  {
   "cell_type": "code",
   "execution_count": 10,
   "id": "808e92a3-eeac-49c1-bbc2-ea52b9b42f3d",
   "metadata": {},
   "outputs": [
    {
     "name": "stdout",
     "output_type": "stream",
     "text": [
      "Hello\n"
     ]
    }
   ],
   "source": [
    "// const val ABC_CONST_HL: String = \"Hello\" // Jutyper 상 ERROR 발생\n",
    "\n",
    "object ABC {\n",
    "    const val ABC_CONST: String = \"Hello\"\n",
    "}\n",
    "\n",
    "val abc = ABC\n",
    "println(abc.ABC_CONST)"
   ]
  },
  {
   "cell_type": "markdown",
   "id": "60870db1-6a80-4189-bd38-eeb0eb1fcf1f",
   "metadata": {},
   "source": [
    "변수 타입 정의와 타입 추론"
   ]
  },
  {
   "cell_type": "code",
   "execution_count": 11,
   "id": "c1d1019e-f29b-4fc7-b0af-41440dfd2da4",
   "metadata": {},
   "outputs": [
    {
     "name": "stdout",
     "output_type": "stream",
     "text": [
      "class kotlin.Int\n",
      "1000\n",
      "class kotlin.Long\n",
      "1000\n"
     ]
    }
   ],
   "source": [
    "var number = 10000\n",
    "println(number.javaClass.kotlin)\n",
    "\n",
    "val num: Int = 1000\n",
    "println(num)\n",
    "\n",
    "var longNumber = 100L\n",
    "println(longNumber.javaClass.kotlin)\n",
    "\n",
    "var lNum: Long = 1000L\n",
    "println(lNum)"
   ]
  },
  {
   "cell_type": "markdown",
   "id": "e50bfc8e-1844-4762-a13d-523169d1491e",
   "metadata": {},
   "source": [
    "숫자 자료형의 타입 변환"
   ]
  },
  {
   "cell_type": "code",
   "execution_count": 13,
   "id": "72e6fab8-78e3-42f9-9037-dc16525f0b19",
   "metadata": {},
   "outputs": [
    {
     "name": "stdout",
     "output_type": "stream",
     "text": [
      "16\n",
      "10000\n",
      "10000\n",
      "10000.0\n",
      "10000.0\n"
     ]
    }
   ],
   "source": [
    "var number = 10000\n",
    "var longNumber = 100L\n",
    "\n",
    "longNumber = number.toLong()\n",
    "number = longNumber.toInt()\n",
    "\n",
    "println(number.toByte())\n",
    "println(number.toShort())\n",
    "println(number.toLong())\n",
    "println(number.toFloat())\n",
    "println(number.toDouble())"
   ]
  },
  {
   "cell_type": "code",
   "execution_count": 14,
   "id": "ead32c93-3fc5-4536-a9bd-b9270491b959",
   "metadata": {},
   "outputs": [
    {
     "name": "stdout",
     "output_type": "stream",
     "text": [
      "10100\n",
      "class kotlin.Long\n"
     ]
    }
   ],
   "source": [
    "val londNumber = 100L\n",
    "val number = 100\n",
    "val ll = longNumber + number\n",
    "println(ll)\n",
    "println(ll.javaClass.kotlin)"
   ]
  },
  {
   "cell_type": "code",
   "execution_count": null,
   "id": "c6849faf-602f-4e73-91e0-30631266c387",
   "metadata": {},
   "outputs": [],
   "source": []
  }
 ],
 "metadata": {
  "kernelspec": {
   "display_name": "Kotlin",
   "language": "kotlin",
   "name": "kotlin"
  },
  "language_info": {
   "codemirror_mode": "text/x-kotlin",
   "file_extension": ".kt",
   "mimetype": "text/x-kotlin",
   "name": "kotlin",
   "nbconvert_exporter": "",
   "pygments_lexer": "kotlin",
   "version": "1.8.0-dev-707"
  }
 },
 "nbformat": 4,
 "nbformat_minor": 5
}
