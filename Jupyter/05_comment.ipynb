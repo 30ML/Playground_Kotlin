{
 "cells": [
  {
   "cell_type": "code",
   "execution_count": 1,
   "id": "979230c7-9bb1-4b1a-9992-4b75030bb25f",
   "metadata": {},
   "outputs": [
    {
     "name": "stdout",
     "output_type": "stream",
     "text": [
      "100\n"
     ]
    }
   ],
   "source": [
    "val 가을이라 = 100 // 변수 지정\n",
    "\n",
    "println(가을이라) // 변수 출력"
   ]
  },
  {
   "cell_type": "code",
   "execution_count": 2,
   "id": "a45a7f81-54d1-4c3f-ab8b-e43a891a51b4",
   "metadata": {},
   "outputs": [
    {
     "name": "stdout",
     "output_type": "stream",
     "text": [
      "코틀린 입문을 환영합니다.\n"
     ]
    }
   ],
   "source": [
    "/* 함수를 처리할 때 매개변수는 2개이며 처리방식은...\n",
    "/* 그래서 ... */\n",
    "*/\n",
    "\n",
    "fun helloWorld() {\n",
    "    println(\"코틀린 입문을 환영합니다.\")\n",
    "}\n",
    "\n",
    "helloWorld()"
   ]
  },
  {
   "cell_type": "code",
   "execution_count": null,
   "id": "10767802-24ac-48c5-b1fd-e88a02483144",
   "metadata": {},
   "outputs": [],
   "source": [
    "/*\n",
    "* 클래스에 대한 멤버 구성\n",
    "*\n",
    "* 클래스에 대한 매개변수, 생성자 등 멤버 설명.\n",
    "*/\n",
    "\n",
    "class Group<T>(val name: String) {\n",
    "    /**\n",
    "    * 메서드에 대한 설명\n",
    "    */\n",
    "    fun add(member: T): Int {\n",
    "        return 100\n",
    "    }\n",
    "}"
   ]
  }
 ],
 "metadata": {
  "kernelspec": {
   "display_name": "Kotlin",
   "language": "kotlin",
   "name": "kotlin"
  },
  "language_info": {
   "codemirror_mode": "text/x-kotlin",
   "file_extension": ".kt",
   "mimetype": "text/x-kotlin",
   "name": "kotlin",
   "nbconvert_exporter": "",
   "pygments_lexer": "kotlin",
   "version": "1.8.0-dev-707"
  }
 },
 "nbformat": 4,
 "nbformat_minor": 5
}
