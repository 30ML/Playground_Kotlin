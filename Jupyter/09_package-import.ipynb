{
 "cells": [
  {
   "cell_type": "code",
   "execution_count": null,
   "id": "483294a0-dc38-4338-84fb-d47c99d9612b",
   "metadata": {},
   "outputs": [],
   "source": [
    "// package pythagorean\n",
    "import kotlin.math.sqrt\n",
    "\n",
    "class RightTriangle(val a: Double, val b: Double) {\n",
    "    fun hypotenuse() = sqrt(a * a + b * b)\n",
    "    fun area() = a * b / 2\n",
    "}"
   ]
  },
  {
   "cell_type": "code",
   "execution_count": 4,
   "id": "44eb76e4-b882-4196-9442-ad7786c89ba1",
   "metadata": {},
   "outputs": [
    {
     "name": "stderr",
     "output_type": "stream",
     "text": [
      "Line_3.jupyter-kts (4:14 - 27) Unresolved reference: RightTriangle"
     ]
    }
   ],
   "source": [
    "\n",
    "\n",
    "fun main() {\n",
    "    val rt = RightTriangle(3.0, 4.0)\n",
    "    println(\"hypotenuse = ${rt.hypotenuse()}\")\n",
    "    println(\"area = ${rt.area()}\")\n",
    "}\n",
    "\n",
    "main()"
   ]
  },
  {
   "cell_type": "code",
   "execution_count": 7,
   "id": "afd9b146-0625-4115-aed7-662363a95a23",
   "metadata": {},
   "outputs": [
    {
     "name": "stdout",
     "output_type": "stream",
     "text": [
      "3.141592653589793\n",
      "-1.0\n",
      "1.0\n",
      "3.141592653589793\n",
      "-1.0\n",
      "1.0\n"
     ]
    }
   ],
   "source": [
    "import kotlin.math.PI\n",
    "import kotlin.math.cos\n",
    "\n",
    "println(PI)\n",
    "println(cos(PI))\n",
    "println(cos(2 * PI))\n",
    "\n",
    "println(kotlin.math.PI)\n",
    "println(kotlin.math.cos(kotlin.math.PI))\n",
    "println(kotlin.math.cos(2 * kotlin.math.PI))"
   ]
  },
  {
   "cell_type": "code",
   "execution_count": 8,
   "id": "df26b005-675d-417d-9512-80b4dfeff15e",
   "metadata": {},
   "outputs": [
    {
     "name": "stdout",
     "output_type": "stream",
     "text": [
      "2.718281828459045\n",
      "3\n",
      "2\n"
     ]
    }
   ],
   "source": [
    "import kotlin.math.*\n",
    "\n",
    "println(E)\n",
    "println(E.roundToInt())\n",
    "println(E.toInt())"
   ]
  },
  {
   "cell_type": "code",
   "execution_count": 9,
   "id": "aa7ffc73-d7ba-41eb-b86a-67d0cac6cd67",
   "metadata": {},
   "outputs": [
    {
     "name": "stdout",
     "output_type": "stream",
     "text": [
      "3.141592653589793\n",
      "-1.0\n",
      "1.0\n"
     ]
    }
   ],
   "source": [
    "import kotlin.math.PI as circleRatio\n",
    "import kotlin.math.cos as cosine\n",
    "\n",
    "println(circleRatio)\n",
    "println(cosine(circleRatio))\n",
    "println(cosine(2 * circleRatio))"
   ]
  },
  {
   "cell_type": "code",
   "execution_count": 11,
   "id": "c188ebe5-b28c-410a-adac-f925091d3bbe",
   "metadata": {},
   "outputs": [
    {
     "name": "stdout",
     "output_type": "stream",
     "text": [
      "[1, 2, 3, 4]\n",
      "main string\n",
      "[1, 2, 3, 4]\n",
      "fun Line_10.main(): kotlin.Unit\n",
      "() -> kotlin.Unit\n"
     ]
    }
   ],
   "source": [
    "fun main() {\n",
    "    val intArray = intArrayOf(1, 2, 3, 4) // 함수로 배열 생성하고 지역변수에 저장\n",
    "    val main = \"main string\" // 지역변수에 문자열 저장\n",
    "    val println: IntArray = intArray // 지역변수에 지역변수 할당\n",
    "    val main_ = { println(\"Hello\") } // 지역변수에 람다표현식(함수) 할당\n",
    "    \n",
    "    println(intArray.contentToString())\n",
    "    println(main)\n",
    "    println(println.contentToString())\n",
    "    println(::main) // main() 참조\n",
    "    println(main_) // 변수에 할당된 람다표현식 참조\n",
    "}\n",
    "\n",
    "main()"
   ]
  },
  {
   "cell_type": "code",
   "execution_count": null,
   "id": "d21eb517-890a-481e-9399-210e707e88e8",
   "metadata": {},
   "outputs": [],
   "source": []
  }
 ],
 "metadata": {
  "kernelspec": {
   "display_name": "Kotlin",
   "language": "kotlin",
   "name": "kotlin"
  },
  "language_info": {
   "codemirror_mode": "text/x-kotlin",
   "file_extension": ".kt",
   "mimetype": "text/x-kotlin",
   "name": "kotlin",
   "nbconvert_exporter": "",
   "pygments_lexer": "kotlin",
   "version": "1.8.0-dev-707"
  }
 },
 "nbformat": 4,
 "nbformat_minor": 5
}
