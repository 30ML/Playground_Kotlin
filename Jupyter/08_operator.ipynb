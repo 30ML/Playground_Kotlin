{
 "cells": [
  {
   "cell_type": "markdown",
   "id": "894f18b7-b0ea-4259-8213-a03bf1a9473b",
   "metadata": {},
   "source": [
    "연산자로 계산"
   ]
  },
  {
   "cell_type": "code",
   "execution_count": 1,
   "id": "209b777a-2b0a-4285-be90-c5b0fdfd384d",
   "metadata": {},
   "outputs": [
    {
     "name": "stdout",
     "output_type": "stream",
     "text": [
      "number1 + number2 = 16.0\n",
      "number1 - number2 = 9.0\n",
      "number1 * number2 = 43.75\n",
      "number1 / number2 = 3.5714285714285716\n",
      "number1 % number2 = 2.0\n"
     ]
    }
   ],
   "source": [
    "val number1 = 12.5\n",
    "val number2 = 3.5\n",
    "\n",
    "println(\"number1 + number2 = ${number1 + number2}\")\n",
    "println(\"number1 - number2 = ${number1 - number2}\")\n",
    "println(\"number1 * number2 = ${number1 * number2}\")\n",
    "println(\"number1 / number2 = ${number1 / number2}\")\n",
    "println(\"number1 % number2 = ${number1 % number2}\")"
   ]
  },
  {
   "cell_type": "markdown",
   "id": "dfc9e2d4-dc91-4f2f-b86e-1c1bb93b923d",
   "metadata": {},
   "source": [
    "연산자를 메서드로 계산"
   ]
  },
  {
   "cell_type": "code",
   "execution_count": 3,
   "id": "5a2ffc30-94f9-4828-a9d6-8663eaa948c4",
   "metadata": {},
   "outputs": [
    {
     "name": "stdout",
     "output_type": "stream",
     "text": [
      "number1 plus number2 = 16.0\n",
      "number1 minus number2 = 9.0\n",
      "number1 times number2 = 43.75\n",
      "number1 div number2 = 3.5714285714285716\n",
      "number1 rem number2 = 2.0\n",
      "number1 mod number2 = 2.0\n"
     ]
    }
   ],
   "source": [
    "val number1 = 12.5\n",
    "val number2 = 3.5\n",
    "\n",
    "println(\"number1 plus number2 = ${number1.plus(number2)}\")\n",
    "println(\"number1 minus number2 = ${number1.minus(number2)}\")\n",
    "println(\"number1 times number2 = ${number1.times(number2)}\")\n",
    "println(\"number1 div number2 = ${number1.div(number2)}\")\n",
    "println(\"number1 rem number2 = ${number1.rem(number2)}\")\n",
    "println(\"number1 mod number2 = ${number1.mod(number2)}\")"
   ]
  },
  {
   "cell_type": "markdown",
   "id": "88da99a0-52a7-4d93-878e-c9331c5651ac",
   "metadata": {},
   "source": [
    "복합 할당 연산자"
   ]
  },
  {
   "cell_type": "code",
   "execution_count": null,
   "id": "c2c6d8ce-7c90-4128-855d-b94375578d0b",
   "metadata": {},
   "outputs": [],
   "source": [
    "var a = 5\n",
    "\n",
    "a += 10\n",
    "println(\"a += 10: $a\")\n",
    "\n",
    "a -= 5"
   ]
  },
  {
   "cell_type": "markdown",
   "id": "a2f6bd19-e978-4ec6-b6a0-5727bbc88025",
   "metadata": {},
   "source": [
    "연산자 오버로딩"
   ]
  },
  {
   "cell_type": "code",
   "execution_count": 4,
   "id": "2fcda6d8-ac95-4c6a-ae8b-cea33954d8f3",
   "metadata": {},
   "outputs": [
    {
     "name": "stdout",
     "output_type": "stream",
     "text": [
      "온고 지신. - 공자\n"
     ]
    }
   ],
   "source": [
    "val start = \"온고 \"\n",
    "val middle = \"지신. \"\n",
    "val end = \"- 공자\"\n",
    "\n",
    "val result = start + middle + end\n",
    "println(result)"
   ]
  },
  {
   "cell_type": "code",
   "execution_count": 5,
   "id": "da6de0d5-9a8f-44a9-ab59-10d27e03b768",
   "metadata": {},
   "outputs": [
    {
     "name": "stdout",
     "output_type": "stream",
     "text": [
      "[One, Two, Three, Four, Five]\n",
      "[One, Two]\n"
     ]
    }
   ],
   "source": [
    "val numbers = listOf(\"One\", \"Two\", \"Three\", \"Four\")\n",
    "val plusList = numbers + \"Five\"\n",
    "val minusList = numbers - listOf(\"Three\", \"Four\")\n",
    "\n",
    "println(plusList)\n",
    "println(minusList)"
   ]
  },
  {
   "cell_type": "code",
   "execution_count": null,
   "id": "747dbcc3-1331-4d13-b3f8-f71124ad3e79",
   "metadata": {},
   "outputs": [],
   "source": []
  }
 ],
 "metadata": {
  "kernelspec": {
   "display_name": "Kotlin",
   "language": "kotlin",
   "name": "kotlin"
  },
  "language_info": {
   "codemirror_mode": "text/x-kotlin",
   "file_extension": ".kt",
   "mimetype": "text/x-kotlin",
   "name": "kotlin",
   "nbconvert_exporter": "",
   "pygments_lexer": "kotlin",
   "version": "1.8.0-dev-707"
  }
 },
 "nbformat": 4,
 "nbformat_minor": 5
}
