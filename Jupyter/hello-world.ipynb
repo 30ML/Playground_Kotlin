{
 "cells": [
  {
   "cell_type": "code",
   "execution_count": 6,
   "id": "79ae4b33-5926-44c7-b480-dc17602a9097",
   "metadata": {},
   "outputs": [],
   "source": [
    "val hello = \"Hello\"\n",
    "\n",
    "fun main() {\n",
    "    println(\"$hello\")\n",
    "    println(\"Kotlin Version: ${KotlinVersion.CURRENT}\") // 현재 kts 버전\n",
    "}"
   ]
  },
  {
   "cell_type": "code",
   "execution_count": 7,
   "id": "9eee7e74-517b-45a0-b9e1-0ad0112ae6a6",
   "metadata": {},
   "outputs": [
    {
     "name": "stdout",
     "output_type": "stream",
     "text": [
      "Hello\n",
      "Kotlin Version: 1.8.0\n"
     ]
    }
   ],
   "source": [
    "main()"
   ]
  },
  {
   "cell_type": "code",
   "execution_count": 8,
   "id": "07d5ef73-a477-4961-a60f-c7a986a19339",
   "metadata": {},
   "outputs": [
    {
     "data": {
      "text/plain": [
       "Hello"
      ]
     },
     "execution_count": 8,
     "metadata": {},
     "output_type": "execute_result"
    }
   ],
   "source": [
    "hello"
   ]
  },
  {
   "cell_type": "code",
   "execution_count": 9,
   "id": "ba1f6aa2-25ce-42dc-8f10-fe20534445f7",
   "metadata": {},
   "outputs": [
    {
     "data": {
      "text/plain": [
       "class kotlin.String"
      ]
     },
     "execution_count": 9,
     "metadata": {},
     "output_type": "execute_result"
    }
   ],
   "source": [
    "\"Hello\".javaClass.kotlin"
   ]
  },
  {
   "cell_type": "code",
   "execution_count": 10,
   "id": "d8439008-f26b-4a2d-bcda-7360ac69f406",
   "metadata": {},
   "outputs": [
    {
     "data": {
      "text/plain": [
       "class kotlin.Int"
      ]
     },
     "execution_count": 10,
     "metadata": {},
     "output_type": "execute_result"
    }
   ],
   "source": [
    "1234.javaClass.kotlin"
   ]
  },
  {
   "cell_type": "code",
   "execution_count": null,
   "id": "2a262b9b-e0fb-4acc-a211-779e71310805",
   "metadata": {},
   "outputs": [],
   "source": []
  }
 ],
 "metadata": {
  "kernelspec": {
   "display_name": "Kotlin",
   "language": "kotlin",
   "name": "kotlin"
  },
  "language_info": {
   "codemirror_mode": "text/x-kotlin",
   "file_extension": ".kt",
   "mimetype": "text/x-kotlin",
   "name": "kotlin",
   "nbconvert_exporter": "",
   "pygments_lexer": "kotlin",
   "version": "1.8.0-dev-707"
  }
 },
 "nbformat": 4,
 "nbformat_minor": 5
}
