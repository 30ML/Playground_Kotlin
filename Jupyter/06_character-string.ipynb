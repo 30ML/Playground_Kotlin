{
 "cells": [
  {
   "cell_type": "code",
   "execution_count": 9,
   "id": "6131aa70-16e1-4009-a3c5-43883c4d35d0",
   "metadata": {},
   "outputs": [
    {
     "name": "stdout",
     "output_type": "stream",
     "text": [
      "class kotlin.Char\n",
      "class kotlin.String\n",
      "가을\n",
      "class kotlin.CharArray\n",
      "[가, 을]\n",
      "class kotlin.String\n",
      "가을\n",
      "class kotlin.String\n"
     ]
    }
   ],
   "source": [
    "println('가'.javaClass.kotlin) // class kotlin.Char\n",
    "println(\"가을\".javaClass.kotlin) // class kotlin.String\n",
    "\n",
    "println(charArrayOf('가', '을'))\n",
    "println(charArrayOf('가', '을').javaClass.kotlin)\n",
    "\n",
    "println(charArrayOf('가', '을').contentToString())\n",
    "println(charArrayOf('가', '을').contentToString().javaClass.kotlin)\n",
    "\n",
    "var str = String(charArrayOf('가', '을'))\n",
    "println(str)\n",
    "println(str.javaClass.kotlin)"
   ]
  },
  {
   "cell_type": "code",
   "execution_count": 8,
   "id": "e8b83e79-ca55-4c89-a302-84417c2d402c",
   "metadata": {},
   "outputs": [
    {
     "name": "stdout",
     "output_type": "stream",
     "text": [
      "날짜: 20220101\n",
      "100 + 200 = 300\n"
     ]
    }
   ],
   "source": [
    "val date = \"20220101\"\n",
    "val a = 100\n",
    "val b = 200\n",
    "\n",
    "println(\"날짜: $date\")\n",
    "println(\"100 + 200 = ${a + b}\")"
   ]
  },
  {
   "cell_type": "code",
   "execution_count": 10,
   "id": "b0499d8f-fdc7-4015-b0eb-e56bf0c6fd27",
   "metadata": {},
   "outputs": [
    {
     "name": "stdout",
     "output_type": "stream",
     "text": [
      "문자열에 \n",
      "이스케이프 문자를 넣고 처리\n"
     ]
    }
   ],
   "source": [
    "println(\"문자열에 \\n이스케이프 문자를 넣고 처리\")"
   ]
  },
  {
   "cell_type": "code",
   "execution_count": 12,
   "id": "69776531-0fb8-4fca-a8b7-2661e9fa87d5",
   "metadata": {},
   "outputs": [
    {
     "name": "stdout",
     "output_type": "stream",
     "text": [
      "문자열에 \\n이스케이프 문자를 넣고 처리\n",
      "문자열 템플릿 기능은 300\n"
     ]
    }
   ],
   "source": [
    "val rs1 = \"\"\"문자열에 \\n이스케이프 문자를 넣고 처리\"\"\"\n",
    "println(\"$rs1\")\n",
    "\n",
    "val rs2 = \"\"\"문자열 템플릿 기능은 ${100 + 200}\"\"\"\n",
    "println(\"$rs2\")"
   ]
  },
  {
   "cell_type": "code",
   "execution_count": 13,
   "id": "a309f817-68d8-4f1f-b3b3-c87e7abc6d0e",
   "metadata": {},
   "outputs": [
    {
     "name": "stdout",
     "output_type": "stream",
     "text": [
      "float = 1234.50, int =    100, string =        문자열\n",
      "edec = 1.000000e+16, hex = ffff\n"
     ]
    }
   ],
   "source": [
    "val float = 1234.5\n",
    "val int = 100\n",
    "val string = \"문자열\"\n",
    "val edec = 10e15\n",
    "val hex = 0xffff\n",
    "\n",
    "println(\"float = %6.2f, int = %6d, string = %10s\".format(float, int, string))\n",
    "println(\"edec = %e, hex = %x\".format(edec, hex))"
   ]
  },
  {
   "cell_type": "code",
   "execution_count": null,
   "id": "de3ed91c-7ace-4fa0-8686-e09f3b5d9397",
   "metadata": {},
   "outputs": [],
   "source": []
  }
 ],
 "metadata": {
  "kernelspec": {
   "display_name": "Kotlin",
   "language": "kotlin",
   "name": "kotlin"
  },
  "language_info": {
   "codemirror_mode": "text/x-kotlin",
   "file_extension": ".kt",
   "mimetype": "text/x-kotlin",
   "name": "kotlin",
   "nbconvert_exporter": "",
   "pygments_lexer": "kotlin",
   "version": "1.8.0-dev-707"
  }
 },
 "nbformat": 4,
 "nbformat_minor": 5
}
