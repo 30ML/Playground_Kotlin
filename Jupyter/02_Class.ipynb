{
 "cells": [
  {
   "cell_type": "code",
   "execution_count": 1,
   "id": "0627baa3-486f-4ec7-80ad-1f740d9f3afa",
   "metadata": {},
   "outputs": [],
   "source": [
    "class Hello {\n",
    "    val hello = \"Hello\"\n",
    "}"
   ]
  },
  {
   "cell_type": "code",
   "execution_count": 2,
   "id": "592db1a1-f08d-40cc-91f3-3fd58720e5e4",
   "metadata": {},
   "outputs": [],
   "source": [
    "val h = Hello()"
   ]
  },
  {
   "cell_type": "code",
   "execution_count": 3,
   "id": "d52e07d4-57d9-474c-9a57-73af22d3d9f9",
   "metadata": {},
   "outputs": [
    {
     "data": {
      "text/plain": [
       "class Line_0$Hello"
      ]
     },
     "execution_count": 3,
     "metadata": {},
     "output_type": "execute_result"
    }
   ],
   "source": [
    "h.javaClass.kotlin"
   ]
  },
  {
   "cell_type": "code",
   "execution_count": null,
   "id": "cd410f38-e931-468a-8385-94fed3774e3c",
   "metadata": {},
   "outputs": [],
   "source": []
  }
 ],
 "metadata": {
  "kernelspec": {
   "display_name": "Kotlin",
   "language": "kotlin",
   "name": "kotlin"
  },
  "language_info": {
   "codemirror_mode": "text/x-kotlin",
   "file_extension": ".kt",
   "mimetype": "text/x-kotlin",
   "name": "kotlin",
   "nbconvert_exporter": "",
   "pygments_lexer": "kotlin",
   "version": "1.8.0-dev-707"
  }
 },
 "nbformat": 4,
 "nbformat_minor": 5
}
