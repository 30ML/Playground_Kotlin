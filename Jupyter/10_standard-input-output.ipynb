{
 "cells": [
  {
   "cell_type": "code",
   "execution_count": 7,
   "id": "5152483f-19b4-4c41-911a-b6cce94f13d0",
   "metadata": {},
   "outputs": [
    {
     "name": "stdin",
     "output_type": "stream",
     "text": [
      "stdin: 100\n"
     ]
    },
    {
     "name": "stderr",
     "output_type": "stream",
     "text": [
      "Encountered unknown key 'status'.\n",
      "Use 'ignoreUnknownKeys = true' in 'Json {}' builder to ignore unknown keys.\n",
      "Current input: {\"status\":\"ok\",\"value\":\"100\"}\n",
      "kotlinx.serialization.json.internal.JsonDecodingException: Encountered unknown key 'status'.\n",
      "Use 'ignoreUnknownKeys = true' in 'Json {}' builder to ignore unknown keys.\n",
      "Current input: {\"status\":\"ok\",\"value\":\"100\"}\n",
      "\tat kotlinx.serialization.json.internal.JsonExceptionsKt.JsonDecodingException(JsonExceptions.kt:24)\n",
      "\tat kotlinx.serialization.json.internal.JsonExceptionsKt.UnknownKeyException(JsonExceptions.kt:71)\n",
      "\tat kotlinx.serialization.json.internal.JsonTreeDecoder.endStructure(TreeJsonDecoder.kt:264)\n",
      "\tat org.jetbrains.kotlinx.jupyter.messaging.InputReply$$serializer.deserialize(message_types.kt:409)\n",
      "\tat org.jetbrains.kotlinx.jupyter.messaging.InputReply$$serializer.deserialize(message_types.kt:409)\n",
      "\tat kotlinx.serialization.json.internal.PolymorphicKt.decodeSerializableValuePolymorphic(Polymorphic.kt:59)\n",
      "\tat kotlinx.serialization.json.internal.AbstractJsonTreeDecoder.decodeSerializableValue(TreeJsonDecoder.kt:51)\n",
      "\tat kotlinx.serialization.json.internal.TreeJsonDecoderKt.readJson(TreeJsonDecoder.kt:24)\n",
      "\tat kotlinx.serialization.json.Json.decodeFromJsonElement(Json.kt:119)\n",
      "\tat org.jetbrains.kotlinx.jupyter.messaging.MessageDataSerializer.deserialize(message_types.kt:555)\n",
      "\tat org.jetbrains.kotlinx.jupyter.messaging.MessageDataSerializer.deserialize(message_types.kt:536)\n",
      "\tat kotlinx.serialization.json.internal.PolymorphicKt.decodeSerializableValuePolymorphic(Polymorphic.kt:59)\n",
      "\tat kotlinx.serialization.json.internal.AbstractJsonTreeDecoder.decodeSerializableValue(TreeJsonDecoder.kt:51)\n",
      "\tat kotlinx.serialization.json.internal.TreeJsonDecoderKt.readJson(TreeJsonDecoder.kt:24)\n",
      "\tat kotlinx.serialization.json.Json.decodeFromJsonElement(Json.kt:119)\n",
      "\tat org.jetbrains.kotlinx.jupyter.messaging.MessageKt.toMessage(message.kt:115)\n",
      "\tat org.jetbrains.kotlinx.jupyter.ConnectionKt.receiveMessage(connection.kt:172)\n",
      "\tat org.jetbrains.kotlinx.jupyter.JupyterConnectionImpl$StdinInputStream.getInput(connection.kt:56)\n",
      "\tat org.jetbrains.kotlinx.jupyter.JupyterConnectionImpl$StdinInputStream.initializeCurrentBuf(connection.kt:67)\n",
      "\tat org.jetbrains.kotlinx.jupyter.JupyterConnectionImpl$StdinInputStream.read(connection.kt:76)\n",
      "\tat kotlin.io.LineReader.readLine(Console.kt:195)\n",
      "\tat kotlin.io.ConsoleKt.readLine(Console.kt:170)\n",
      "\tat Line_6.<init>(Line_6.jupyter-kts:1)\n",
      "\tat sun.reflect.NativeConstructorAccessorImpl.newInstance0(Native Method)\n",
      "\tat sun.reflect.NativeConstructorAccessorImpl.newInstance(NativeConstructorAccessorImpl.java:62)\n",
      "\tat sun.reflect.DelegatingConstructorAccessorImpl.newInstance(DelegatingConstructorAccessorImpl.java:45)\n",
      "\tat java.lang.reflect.Constructor.newInstance(Constructor.java:423)\n",
      "\tat kotlin.script.experimental.jvm.BasicJvmScriptEvaluator.evalWithConfigAndOtherScriptsResults(BasicJvmScriptEvaluator.kt:105)\n",
      "\tat kotlin.script.experimental.jvm.BasicJvmScriptEvaluator.invoke$suspendImpl(BasicJvmScriptEvaluator.kt:47)\n",
      "\tat kotlin.script.experimental.jvm.BasicJvmScriptEvaluator.invoke(BasicJvmScriptEvaluator.kt)\n",
      "\tat kotlin.script.experimental.jvm.BasicJvmReplEvaluator.eval(BasicJvmReplEvaluator.kt:49)\n",
      "\tat org.jetbrains.kotlinx.jupyter.repl.impl.InternalEvaluatorImpl$eval$resultWithDiagnostics$1.invokeSuspend(InternalEvaluatorImpl.kt:103)\n",
      "\tat kotlin.coroutines.jvm.internal.BaseContinuationImpl.resumeWith(ContinuationImpl.kt:33)\n",
      "\tat kotlinx.coroutines.DispatchedTask.run(DispatchedTask.kt:106)\n",
      "\tat kotlinx.coroutines.EventLoopImplBase.processNextEvent(EventLoop.common.kt:284)\n",
      "\tat kotlinx.coroutines.BlockingCoroutine.joinBlocking(Builders.kt:85)\n",
      "\tat kotlinx.coroutines.BuildersKt__BuildersKt.runBlocking(Builders.kt:59)\n",
      "\tat kotlinx.coroutines.BuildersKt.runBlocking(Unknown Source)\n",
      "\tat kotlinx.coroutines.BuildersKt__BuildersKt.runBlocking$default(Builders.kt:38)\n",
      "\tat kotlinx.coroutines.BuildersKt.runBlocking$default(Unknown Source)\n",
      "\tat org.jetbrains.kotlinx.jupyter.repl.impl.InternalEvaluatorImpl.eval(InternalEvaluatorImpl.kt:103)\n",
      "\tat org.jetbrains.kotlinx.jupyter.repl.impl.CellExecutorImpl$execute$1$result$1.invoke(CellExecutorImpl.kt:71)\n",
      "\tat org.jetbrains.kotlinx.jupyter.repl.impl.CellExecutorImpl$execute$1$result$1.invoke(CellExecutorImpl.kt:69)\n",
      "\tat org.jetbrains.kotlinx.jupyter.ReplForJupyterImpl.withHost(repl.kt:635)\n",
      "\tat org.jetbrains.kotlinx.jupyter.repl.impl.CellExecutorImpl.execute(CellExecutorImpl.kt:69)\n",
      "\tat org.jetbrains.kotlinx.jupyter.repl.CellExecutor$DefaultImpls.execute$default(CellExecutor.kt:15)\n",
      "\tat org.jetbrains.kotlinx.jupyter.ReplForJupyterImpl$evalEx$1.invoke(repl.kt:444)\n",
      "\tat org.jetbrains.kotlinx.jupyter.ReplForJupyterImpl$evalEx$1.invoke(repl.kt:433)\n",
      "\tat org.jetbrains.kotlinx.jupyter.ReplForJupyterImpl.withEvalContext(repl.kt:397)\n",
      "\tat org.jetbrains.kotlinx.jupyter.ReplForJupyterImpl.evalEx(repl.kt:433)\n",
      "\tat org.jetbrains.kotlinx.jupyter.ReplForJupyterImpl.eval(repl.kt:485)\n",
      "\tat org.jetbrains.kotlinx.jupyter.messaging.ProtocolKt$shellMessagesHandler$2$res$1.invoke(protocol.kt:321)\n",
      "\tat org.jetbrains.kotlinx.jupyter.messaging.ProtocolKt$shellMessagesHandler$2$res$1.invoke(protocol.kt:320)\n",
      "\tat org.jetbrains.kotlinx.jupyter.JupyterExecutorImpl$runExecution$execThread$1.invoke(execution.kt:33)\n",
      "\tat org.jetbrains.kotlinx.jupyter.JupyterExecutorImpl$runExecution$execThread$1.invoke(execution.kt:31)\n",
      "\tat kotlin.concurrent.ThreadsKt$thread$thread$1.run(Thread.kt:30)\n"
     ]
    }
   ],
   "source": [
    "val a = readLine()!!\n",
    "val b = readLine()!!\n",
    "\n",
    "print(\"a = $a.value \"); print(\"b = $b \"); print(\"\\n\")\n",
    "println(\"sum = ${a + b}\")"
   ]
  },
  {
   "cell_type": "code",
   "execution_count": null,
   "id": "24dc1204-61bd-4da3-ac96-9bba87f336a1",
   "metadata": {},
   "outputs": [],
   "source": []
  }
 ],
 "metadata": {
  "kernelspec": {
   "display_name": "Kotlin",
   "language": "kotlin",
   "name": "kotlin"
  },
  "language_info": {
   "codemirror_mode": "text/x-kotlin",
   "file_extension": ".kt",
   "mimetype": "text/x-kotlin",
   "name": "kotlin",
   "nbconvert_exporter": "",
   "pygments_lexer": "kotlin",
   "version": "1.8.0-dev-707"
  }
 },
 "nbformat": 4,
 "nbformat_minor": 5
}
